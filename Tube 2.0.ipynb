{
 "cells": [
  {
   "cell_type": "code",
   "execution_count": 29,
   "metadata": {
    "collapsed": true
   },
   "outputs": [],
   "source": [
    "import numpy as np\n",
    "nx = 81\n",
    "dx = .25\n",
    "nt=51\n",
    "dt = .0002   \n",
    "gamma = 1.4 #cst pour l'air\n",
    "L=20"
   ]
  },
  {
   "cell_type": "code",
   "execution_count": 30,
   "metadata": {
    "collapsed": false
   },
   "outputs": [],
   "source": [
    "U=np.ones(((102,81,3)))\n",
    "rhoil=1\n",
    "vil=0\n",
    "pil=100\n",
    "rhoir=.125\n",
    "vir=0\n",
    "pir=10\n",
    "for i in range (0,40):\n",
    "    U[0][i][0]=rhoil\n",
    "    U[0][i][1]=rhoil*vil\n",
    "    U[0][i][2]=pil/(gamma-1)+0.5*rhoil*(vil)**2\n",
    "for i in range (40,80):\n",
    "    U[0][i][0]=rhoir\n",
    "    U[0][i][1]=rhoir*vir\n",
    "    U[0][i][2]=pir/(gamma-1)+0.5*rhoir*(vir)**2"
   ]
  },
  {
   "cell_type": "code",
   "execution_count": 31,
   "metadata": {
    "collapsed": false
   },
   "outputs": [],
   "source": [
    "def F1(a,b):\n",
    "    F1=U[a][b][1]\n",
    "    return F1"
   ]
  },
  {
   "cell_type": "code",
   "execution_count": 32,
   "metadata": {
    "collapsed": true
   },
   "outputs": [],
   "source": [
    "def F2(a,b):\n",
    "    F2=(U[a][b][1])**2/U[a][b][0]+(gamma-1)*(U[a][b][2]-0.5*(U[a][b][1])**2/U[a][b][0])\n",
    "    return F2"
   ]
  },
  {
   "cell_type": "code",
   "execution_count": 33,
   "metadata": {
    "collapsed": true
   },
   "outputs": [],
   "source": [
    "def F3 (a,b):\n",
    "    F3=(U[a][b][2]+(gamma-1)*(U[a][b][2]-0.5*(U[a][b][1])**2/U[a][b][0]))*U[a][b][1]/U[a][b][0]\n",
    "    return F3\n"
   ]
  },
  {
   "cell_type": "code",
   "execution_count": 51,
   "metadata": {
    "collapsed": false
   },
   "outputs": [],
   "source": [
    "F=np.ones(((102,81,3)))\n",
    "for i in range (80):\n",
    "    F[0][i][0]=F1(0,i)\n",
    "    F[0][i][1]=F2(0,i)\n",
    "    F[0][i][2]=F3(0,i)\n",
    "    \n",
    "    "
   ]
  },
  {
   "cell_type": "code",
   "execution_count": 52,
   "metadata": {
    "collapsed": false
   },
   "outputs": [],
   "source": [
    "for l in range (3):\n",
    "        U[1][i][l]=0.5*(U[0][i+1][l]+U[0][i][l])-0.5*dt/dx*(F[0][i+1][l]-F[0][i][l])"
   ]
  },
  {
   "cell_type": "code",
   "execution_count": 53,
   "metadata": {
    "collapsed": false
   },
   "outputs": [],
   "source": [
    "for i in range (80):\n",
    "    \n",
    "    F[1][i][0]=F1(1,i)\n",
    "    F[1][i][1]=F2(1,i)\n",
    "    F[1][i][2]=F3(1,i)"
   ]
  },
  {
   "cell_type": "code",
   "execution_count": 62,
   "metadata": {
    "collapsed": false
   },
   "outputs": [],
   "source": [
    "for k in range (1,51):\n",
    "    for i in range (1,80):\n",
    "        for l in range (3):\n",
    "            \n",
    "            U[2*k][i][l]=U[2*k-1][i][l]-dt/dx*(F[2*k-1][i][l]-F[2*k-1][i-1][l])\n",
    "            \n",
    "            F[2*k][i][0]=F1(2*k,i)\n",
    "            F[2*k][i][1]=F2(2*k,i)\n",
    "            F[2*k][i][2]=F3(2*k,i)\n",
    "            \n",
    "            U[(2*k)+1][i][l]=0.5*(U[2*k][i+1][l]+U[2*k][i][l])-0.5*dt/dx*(F[2*k][i+1][l]-F[2*k][i][l])\n",
    "            \n",
    "            F[2*k+1][i][0]=F1(2*k+1,i)\n",
    "            F[2*k+1][i][1]=F2(2*k+1,i)\n",
    "            F[2*k+1][i][2]=F3(2*k+1,i)                       "
   ]
  },
  {
   "cell_type": "code",
   "execution_count": 72,
   "metadata": {
    "collapsed": false
   },
   "outputs": [
    {
     "name": "stdout",
     "output_type": "stream",
     "text": [
      "[ 1.00000038  1.00048138  1.00048169]\n"
     ]
    }
   ],
   "source": [
    "print (U[100][50])\n"
   ]
  },
  {
   "cell_type": "code",
   "execution_count": null,
   "metadata": {
    "collapsed": true
   },
   "outputs": [],
   "source": []
  },
  {
   "cell_type": "code",
   "execution_count": null,
   "metadata": {
    "collapsed": true
   },
   "outputs": [],
   "source": []
  },
  {
   "cell_type": "code",
   "execution_count": null,
   "metadata": {
    "collapsed": true
   },
   "outputs": [],
   "source": []
  },
  {
   "cell_type": "code",
   "execution_count": null,
   "metadata": {
    "collapsed": true
   },
   "outputs": [],
   "source": []
  },
  {
   "cell_type": "code",
   "execution_count": null,
   "metadata": {
    "collapsed": true
   },
   "outputs": [],
   "source": []
  }
 ],
 "metadata": {
  "kernelspec": {
   "display_name": "Python [conda root]",
   "language": "python",
   "name": "conda-root-py"
  },
  "language_info": {
   "codemirror_mode": {
    "name": "ipython",
    "version": 3
   },
   "file_extension": ".py",
   "mimetype": "text/x-python",
   "name": "python",
   "nbconvert_exporter": "python",
   "pygments_lexer": "ipython3",
   "version": "3.5.2"
  }
 },
 "nbformat": 4,
 "nbformat_minor": 1
}
